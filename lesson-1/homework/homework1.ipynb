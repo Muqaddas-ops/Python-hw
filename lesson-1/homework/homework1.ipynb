{
 "cells": [
  {
   "cell_type": "code",
   "execution_count": 1,
   "metadata": {},
   "outputs": [
    {
     "name": "stdout",
     "output_type": "stream",
     "text": [
      "Square - Perimeter: 20, Area: 25\n",
      "Circle - Length: 31.42\n",
      "Mean of 6 and 8: 7.0\n",
      "Sum: 14, Product: 48, Square of 6: 36, Square of 8: 64\n"
     ]
    }
   ],
   "source": [
    "import math\n",
    "\n",
    "def square_properties(side):\n",
    "    perimeter = 4 * side\n",
    "    area = side ** 2\n",
    "    return perimeter, area\n",
    "\n",
    "def circle_length(diameter):\n",
    "    return math.pi * diameter\n",
    "\n",
    "def mean(a, b):\n",
    "    return (a + b) / 2\n",
    "\n",
    "def number_operations(a, b):\n",
    "    sum_ab = a + b\n",
    "    product_ab = a * b\n",
    "    square_a = a ** 2\n",
    "    square_b = b ** 2\n",
    "    return sum_ab, product_ab, square_a, square_b\n",
    "\n",
    "# Example usage\n",
    "side = 5\n",
    "diameter = 10\n",
    "a, b = 6, 8\n",
    "\n",
    "perimeter, area = square_properties(side)\n",
    "circle_circumference = circle_length(diameter)\n",
    "mean_value = mean(a, b)\n",
    "sum_ab, product_ab, square_a, square_b = number_operations(a, b)\n",
    "\n",
    "print(f\"Square - Perimeter: {perimeter}, Area: {area}\")\n",
    "print(f\"Circle - Length: {circle_circumference:.2f}\")\n",
    "print(f\"Mean of {a} and {b}: {mean_value}\")\n",
    "print(f\"Sum: {sum_ab}, Product: {product_ab}, Square of {a}: {square_a}, Square of {b}: {square_b}\")"
   ]
  }
 ],
 "metadata": {
  "kernelspec": {
   "display_name": "Python 3",
   "language": "python",
   "name": "python3"
  },
  "language_info": {
   "codemirror_mode": {
    "name": "ipython",
    "version": 3
   },
   "file_extension": ".py",
   "mimetype": "text/x-python",
   "name": "python",
   "nbconvert_exporter": "python",
   "pygments_lexer": "ipython3",
   "version": "3.12.9"
  }
 },
 "nbformat": 4,
 "nbformat_minor": 2
}
