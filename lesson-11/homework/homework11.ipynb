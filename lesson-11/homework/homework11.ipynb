{
 "cells": [
  {
   "cell_type": "code",
   "execution_count": 1,
   "id": "360fc42e",
   "metadata": {},
   "outputs": [
    {
     "ename": "SyntaxError",
     "evalue": "invalid syntax (3219097405.py, line 2)",
     "output_type": "error",
     "traceback": [
      "  \u001b[36mCell\u001b[39m\u001b[36m \u001b[39m\u001b[32mIn[1]\u001b[39m\u001b[32m, line 2\u001b[39m\n\u001b[31m    \u001b[39m\u001b[31mpython -m venv myenv\u001b[39m\n              ^\n\u001b[31mSyntaxError\u001b[39m\u001b[31m:\u001b[39m invalid syntax\n"
     ]
    }
   ],
   "source": [
    "# Create virtual environment\n",
    "python -m venv myenv\n",
    "\n",
    "# Activate the virtual environment\n",
    "# On Windows:\n",
    "myenv\\Scripts\\activate\n",
    "# On macOS/Linux:\n",
    "source myenv/bin/activate\n",
    "\n",
    "# Install packages (for example purposes)\n",
    "pip install requests numpy\n"
   ]
  },
  {
   "cell_type": "code",
   "execution_count": 2,
   "id": "038d38dd",
   "metadata": {},
   "outputs": [
    {
     "ename": "SyntaxError",
     "evalue": "invalid character '│' (U+2502) (327490630.py, line 2)",
     "output_type": "error",
     "traceback": [
      "  \u001b[36mCell\u001b[39m\u001b[36m \u001b[39m\u001b[32mIn[2]\u001b[39m\u001b[32m, line 2\u001b[39m\n\u001b[31m    \u001b[39m\u001b[31m│\u001b[39m\n    ^\n\u001b[31mSyntaxError\u001b[39m\u001b[31m:\u001b[39m invalid character '│' (U+2502)\n"
     ]
    }
   ],
   "source": [
    "project/\n",
    "│\n",
    "├── math_operations.py\n",
    "└── string_utils.py\n"
   ]
  },
  {
   "cell_type": "code",
   "execution_count": 3,
   "id": "365c2b90",
   "metadata": {},
   "outputs": [],
   "source": [
    "def add(a, b):\n",
    "    return a + b\n",
    "\n",
    "def subtract(a, b):\n",
    "    return a - b\n",
    "\n",
    "def multiply(a, b):\n",
    "    return a * b\n",
    "\n",
    "def divide(a, b):\n",
    "    if b == 0:\n",
    "        raise ValueError(\"Cannot divide by zero.\")\n",
    "    return a / b\n"
   ]
  },
  {
   "cell_type": "code",
   "execution_count": 4,
   "id": "f2b68a2d",
   "metadata": {},
   "outputs": [],
   "source": [
    "def reverse_string(s):\n",
    "    return s[::-1]\n",
    "\n",
    "def count_vowels(s):\n",
    "    vowels = \"aeiouAEIOU\"\n",
    "    return sum(1 for char in s if char in vowels)\n"
   ]
  },
  {
   "cell_type": "code",
   "execution_count": 5,
   "id": "3d8c9d58",
   "metadata": {},
   "outputs": [
    {
     "ename": "SyntaxError",
     "evalue": "invalid character '└' (U+2514) (3780600875.py, line 2)",
     "output_type": "error",
     "traceback": [
      "  \u001b[36mCell\u001b[39m\u001b[36m \u001b[39m\u001b[32mIn[5]\u001b[39m\u001b[32m, line 2\u001b[39m\n\u001b[31m    \u001b[39m\u001b[31m└── geometry/\u001b[39m\n    ^\n\u001b[31mSyntaxError\u001b[39m\u001b[31m:\u001b[39m invalid character '└' (U+2514)\n"
     ]
    }
   ],
   "source": [
    "project/\n",
    "└── geometry/\n",
    "    ├── __init__.py\n",
    "    └── circle.py\n"
   ]
  },
  {
   "cell_type": "code",
   "execution_count": 6,
   "id": "0b9dcd36",
   "metadata": {},
   "outputs": [],
   "source": [
    "import math\n",
    "\n",
    "def calculate_area(radius):\n",
    "    return math.pi * radius ** 2\n",
    "\n",
    "def calculate_circumference(radius):\n",
    "    return 2 * math.pi * radius\n"
   ]
  },
  {
   "cell_type": "code",
   "execution_count": 7,
   "id": "1172515e",
   "metadata": {},
   "outputs": [],
   "source": [
    "def read_file(file_path):\n",
    "    with open(file_path, 'r', encoding='utf-8') as file:\n",
    "        return file.read()\n"
   ]
  },
  {
   "cell_type": "code",
   "execution_count": 8,
   "id": "3ecf6421",
   "metadata": {},
   "outputs": [],
   "source": [
    "def write_file(file_path, content):\n",
    "    with open(file_path, 'w', encoding='utf-8') as file:\n",
    "        file.write(content)\n"
   ]
  },
  {
   "cell_type": "code",
   "execution_count": 9,
   "id": "97943619",
   "metadata": {},
   "outputs": [
    {
     "ename": "ImportError",
     "evalue": "attempted relative import with no known parent package",
     "output_type": "error",
     "traceback": [
      "\u001b[31m---------------------------------------------------------------------------\u001b[39m",
      "\u001b[31mImportError\u001b[39m                               Traceback (most recent call last)",
      "\u001b[36mCell\u001b[39m\u001b[36m \u001b[39m\u001b[32mIn[9]\u001b[39m\u001b[32m, line 1\u001b[39m\n\u001b[32m----> \u001b[39m\u001b[32m1\u001b[39m \u001b[38;5;28;01mfrom\u001b[39;00m\u001b[38;5;250m \u001b[39m\u001b[34;01m.\u001b[39;00m\u001b[34;01mfile_reader\u001b[39;00m\u001b[38;5;250m \u001b[39m\u001b[38;5;28;01mimport\u001b[39;00m read_file\n\u001b[32m      2\u001b[39m \u001b[38;5;28;01mfrom\u001b[39;00m\u001b[38;5;250m \u001b[39m\u001b[34;01m.\u001b[39;00m\u001b[34;01mfile_writer\u001b[39;00m\u001b[38;5;250m \u001b[39m\u001b[38;5;28;01mimport\u001b[39;00m write_file\n",
      "\u001b[31mImportError\u001b[39m: attempted relative import with no known parent package"
     ]
    }
   ],
   "source": [
    "from .file_reader import read_file\n",
    "from .file_writer import write_file\n"
   ]
  },
  {
   "cell_type": "code",
   "execution_count": 10,
   "id": "2ba1c5ac",
   "metadata": {},
   "outputs": [
    {
     "ename": "ModuleNotFoundError",
     "evalue": "No module named 'math_operations'",
     "output_type": "error",
     "traceback": [
      "\u001b[31m---------------------------------------------------------------------------\u001b[39m",
      "\u001b[31mModuleNotFoundError\u001b[39m                       Traceback (most recent call last)",
      "\u001b[36mCell\u001b[39m\u001b[36m \u001b[39m\u001b[32mIn[10]\u001b[39m\u001b[32m, line 2\u001b[39m\n\u001b[32m      1\u001b[39m \u001b[38;5;66;03m# main.py\u001b[39;00m\n\u001b[32m----> \u001b[39m\u001b[32m2\u001b[39m \u001b[38;5;28;01mfrom\u001b[39;00m\u001b[38;5;250m \u001b[39m\u001b[34;01mmath_operations\u001b[39;00m\u001b[38;5;250m \u001b[39m\u001b[38;5;28;01mimport\u001b[39;00m add, subtract\n\u001b[32m      3\u001b[39m \u001b[38;5;28;01mfrom\u001b[39;00m\u001b[38;5;250m \u001b[39m\u001b[34;01mstring_utils\u001b[39;00m\u001b[38;5;250m \u001b[39m\u001b[38;5;28;01mimport\u001b[39;00m reverse_string, count_vowels\n\u001b[32m      4\u001b[39m \u001b[38;5;28;01mfrom\u001b[39;00m\u001b[38;5;250m \u001b[39m\u001b[34;01mgeometry\u001b[39;00m\u001b[38;5;250m \u001b[39m\u001b[38;5;28;01mimport\u001b[39;00m calculate_area, calculate_circumference\n",
      "\u001b[31mModuleNotFoundError\u001b[39m: No module named 'math_operations'"
     ]
    }
   ],
   "source": [
    "# main.py\n",
    "from math_operations import add, subtract\n",
    "from string_utils import reverse_string, count_vowels\n",
    "from geometry import calculate_area, calculate_circumference\n",
    "from file_operations import read_file, write_file\n",
    "\n",
    "print(add(5, 3))\n",
    "print(reverse_string(\"hello\"))\n",
    "print(count_vowels(\"hello world\"))\n",
    "print(calculate_area(10))\n",
    "print(calculate_circumference(10))\n",
    "\n",
    "write_file(\"example.txt\", \"This is a test file.\")\n",
    "print(read_file(\"example.txt\"))\n"
   ]
  },
  {
   "cell_type": "code",
   "execution_count": 11,
   "id": "005fc1d5",
   "metadata": {},
   "outputs": [
    {
     "ename": "SyntaxError",
     "evalue": "invalid character '│' (U+2502) (1281437834.py, line 2)",
     "output_type": "error",
     "traceback": [
      "  \u001b[36mCell\u001b[39m\u001b[36m \u001b[39m\u001b[32mIn[11]\u001b[39m\u001b[32m, line 2\u001b[39m\n\u001b[31m    \u001b[39m\u001b[31m│\u001b[39m\n    ^\n\u001b[31mSyntaxError\u001b[39m\u001b[31m:\u001b[39m invalid character '│' (U+2502)\n"
     ]
    }
   ],
   "source": [
    "my_project/\n",
    "│\n",
    "├── math_operations.py\n",
    "├── string_utils.py\n",
    "├── main.py\n",
    "│\n",
    "├── geometry/\n",
    "│   ├── __init__.py\n",
    "│   └── circle.py\n",
    "│\n",
    "└── file_operations/\n",
    "    ├── __init__.py\n",
    "    ├── file_reader.py\n",
    "    └── file_writer.py\n"
   ]
  },
  {
   "cell_type": "code",
   "execution_count": 12,
   "id": "e8767435",
   "metadata": {},
   "outputs": [],
   "source": [
    "def add(a, b):\n",
    "    return a + b\n",
    "\n",
    "def subtract(a, b):\n",
    "    return a - b\n",
    "\n",
    "def multiply(a, b):\n",
    "    return a * b\n",
    "\n",
    "def divide(a, b):\n",
    "    if b == 0:\n",
    "        raise ValueError(\"Cannot divide by zero.\")\n",
    "    return a / b\n"
   ]
  },
  {
   "cell_type": "code",
   "execution_count": 13,
   "id": "c5e609ac",
   "metadata": {},
   "outputs": [],
   "source": [
    "def reverse_string(s):\n",
    "    return s[::-1]\n",
    "\n",
    "def count_vowels(s):\n",
    "    vowels = \"aeiouAEIOU\"\n",
    "    return sum(1 for char in s if char in vowels)\n"
   ]
  },
  {
   "cell_type": "code",
   "execution_count": 14,
   "id": "d5d5fd08",
   "metadata": {},
   "outputs": [],
   "source": [
    "import math\n",
    "\n",
    "def calculate_area(radius):\n",
    "    return math.pi * radius ** 2\n",
    "\n",
    "def calculate_circumference(radius):\n",
    "    return 2 * math.pi * radius\n"
   ]
  }
 ],
 "metadata": {
  "kernelspec": {
   "display_name": "Python 3",
   "language": "python",
   "name": "python3"
  },
  "language_info": {
   "codemirror_mode": {
    "name": "ipython",
    "version": 3
   },
   "file_extension": ".py",
   "mimetype": "text/x-python",
   "name": "python",
   "nbconvert_exporter": "python",
   "pygments_lexer": "ipython3",
   "version": "3.12.9"
  }
 },
 "nbformat": 4,
 "nbformat_minor": 5
}
