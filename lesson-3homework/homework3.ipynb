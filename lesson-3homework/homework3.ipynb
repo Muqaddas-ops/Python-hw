{
 "cells": [
  {
   "cell_type": "code",
   "execution_count": 1,
   "metadata": {},
   "outputs": [
    {
     "name": "stdout",
     "output_type": "stream",
     "text": [
      "Third fruit: cherry\n"
     ]
    }
   ],
   "source": [
    "# 1. Create and Access List Elements\n",
    "fruits = ['apple', 'banana', 'cherry', 'mango', 'orange']\n",
    "print(\"Third fruit:\", fruits[2])\n"
   ]
  },
  {
   "cell_type": "code",
   "execution_count": 2,
   "metadata": {},
   "outputs": [
    {
     "name": "stdout",
     "output_type": "stream",
     "text": [
      "Concatenated list: [1, 2, 3, 4, 5, 6]\n"
     ]
    }
   ],
   "source": [
    "# 2. Concatenate Two Lists\n",
    "list1 = [1, 2, 3]\n",
    "list2 = [4, 5, 6]\n",
    "combined_list = list1 + list2\n",
    "print(\"Concatenated list:\", combined_list)"
   ]
  },
  {
   "cell_type": "code",
   "execution_count": 3,
   "metadata": {},
   "outputs": [
    {
     "name": "stdout",
     "output_type": "stream",
     "text": [
      "Extracted elements: [10, 30, 50]\n"
     ]
    }
   ],
   "source": [
    "# 3. Extract Elements from a List\n",
    "numbers = [10, 20, 30, 40, 50]\n",
    "first = numbers[0]\n",
    "middle = numbers[len(numbers) // 2]\n",
    "last = numbers[-1]\n",
    "new_list = [first, middle, last]\n",
    "print(\"Extracted elements:\", new_list)"
   ]
  },
  {
   "cell_type": "code",
   "execution_count": 4,
   "metadata": {},
   "outputs": [
    {
     "name": "stdout",
     "output_type": "stream",
     "text": [
      "Movies tuple: ('Inception', 'Titanic', 'Avatar', 'The Matrix', 'Interstellar')\n"
     ]
    }
   ],
   "source": [
    "# 4. Convert List to Tuple\n",
    "movies = ['Inception', 'Titanic', 'Avatar', 'The Matrix', 'Interstellar']\n",
    "movies_tuple = tuple(movies)\n",
    "print(\"Movies tuple:\", movies_tuple)"
   ]
  },
  {
   "cell_type": "code",
   "execution_count": 5,
   "metadata": {},
   "outputs": [
    {
     "name": "stdout",
     "output_type": "stream",
     "text": [
      "Is Paris in the list? True\n"
     ]
    }
   ],
   "source": [
    "# 5. Check Element in a List\n",
    "cities = ['New York', 'London', 'Tokyo', 'Paris', 'Dubai']\n",
    "is_paris_present = \"Paris\" in cities\n",
    "print(\"Is Paris in the list?\", is_paris_present)\n"
   ]
  },
  {
   "cell_type": "code",
   "execution_count": 6,
   "metadata": {},
   "outputs": [
    {
     "name": "stdout",
     "output_type": "stream",
     "text": [
      "Duplicated list: [1, 2, 3, 1, 2, 3]\n"
     ]
    }
   ],
   "source": [
    "# 6. Duplicate a List Without Using Loops\n",
    "nums = [1, 2, 3]\n",
    "duplicated = nums * 2\n",
    "print(\"Duplicated list:\", duplicated)\n"
   ]
  },
  {
   "cell_type": "code",
   "execution_count": 7,
   "metadata": {},
   "outputs": [
    {
     "name": "stdout",
     "output_type": "stream",
     "text": [
      "After swapping first and last: [50, 20, 30, 40, 10]\n"
     ]
    }
   ],
   "source": [
    "# 7. Swap First and Last Elements of a List\n",
    "nums2 = [10, 20, 30, 40, 50]\n",
    "nums2[0], nums2[-1] = nums2[-1], nums2[0]\n",
    "print(\"After swapping first and last:\", nums2)"
   ]
  },
  {
   "cell_type": "code",
   "execution_count": 8,
   "metadata": {},
   "outputs": [
    {
     "name": "stdout",
     "output_type": "stream",
     "text": [
      "Sliced tuple (index 3 to 7): (4, 5, 6, 7, 8)\n"
     ]
    }
   ],
   "source": [
    "# 8. Slice a Tuple\n",
    "numbers_tuple = tuple(range(1, 11))  # (1 to 10)\n",
    "sliced = numbers_tuple[3:8]\n",
    "print(\"Sliced tuple (index 3 to 7):\", sliced)"
   ]
  },
  {
   "cell_type": "code",
   "execution_count": 9,
   "metadata": {},
   "outputs": [
    {
     "name": "stdout",
     "output_type": "stream",
     "text": [
      "Number of 'blue': 3\n"
     ]
    }
   ],
   "source": [
    "# 9. Count Occurrences in a List\n",
    "colors = ['blue', 'red', 'blue', 'green', 'blue']\n",
    "blue_count = colors.count('blue')\n",
    "print(\"Number of 'blue':\", blue_count)"
   ]
  },
  {
   "cell_type": "code",
   "execution_count": 10,
   "metadata": {},
   "outputs": [
    {
     "name": "stdout",
     "output_type": "stream",
     "text": [
      "Index of 'lion': 2\n"
     ]
    }
   ],
   "source": [
    "# 10. Find the Index of an Element in a Tuple\n",
    "animals = ('cat', 'dog', 'lion', 'tiger', 'elephant')\n",
    "lion_index = animals.index('lion')\n",
    "print(\"Index of 'lion':\", lion_index)\n"
   ]
  },
  {
   "cell_type": "code",
   "execution_count": 11,
   "metadata": {},
   "outputs": [
    {
     "name": "stdout",
     "output_type": "stream",
     "text": [
      "Merged tuple: (1, 2, 3, 4, 5, 6)\n"
     ]
    }
   ],
   "source": [
    "# 11. Merge Two Tuples\n",
    "tuple1 = (1, 2, 3)\n",
    "tuple2 = (4, 5, 6)\n",
    "merged_tuple = tuple1 + tuple2\n",
    "print(\"Merged tuple:\", merged_tuple)\n"
   ]
  },
  {
   "cell_type": "code",
   "execution_count": 12,
   "metadata": {},
   "outputs": [
    {
     "name": "stdout",
     "output_type": "stream",
     "text": [
      "List length: 3\n",
      "Tuple length: 4\n"
     ]
    }
   ],
   "source": [
    "# 12. Find the Length of a List and Tuple\n",
    "sample_list = [100, 200, 300]\n",
    "sample_tuple = ('a', 'b', 'c', 'd')\n",
    "print(\"List length:\", len(sample_list))\n",
    "print(\"Tuple length:\", len(sample_tuple))"
   ]
  },
  {
   "cell_type": "code",
   "execution_count": 13,
   "metadata": {},
   "outputs": [
    {
     "name": "stdout",
     "output_type": "stream",
     "text": [
      "Converted list: [10, 20, 30, 40, 50]\n"
     ]
    }
   ],
   "source": [
    "# 13. Convert Tuple to List\n",
    "num_tuple = (10, 20, 30, 40, 50)\n",
    "num_list = list(num_tuple)\n",
    "print(\"Converted list:\", num_list)"
   ]
  },
  {
   "cell_type": "code",
   "execution_count": 14,
   "metadata": {},
   "outputs": [
    {
     "name": "stdout",
     "output_type": "stream",
     "text": [
      "Max: 42\n",
      "Min: 3\n"
     ]
    }
   ],
   "source": [
    "# 14. Find Maximum and Minimum in a Tuple\n",
    "data = (15, 6, 23, 42, 3, 9)\n",
    "print(\"Max:\", max(data))\n",
    "print(\"Min:\", min(data))"
   ]
  },
  {
   "cell_type": "code",
   "execution_count": 15,
   "metadata": {},
   "outputs": [
    {
     "name": "stdout",
     "output_type": "stream",
     "text": [
      "Reversed tuple: ('tuple', 'python', 'world', 'hello')\n"
     ]
    }
   ],
   "source": [
    "# 15. Reverse a Tuple\n",
    "words = ('hello', 'world', 'python', 'tuple')\n",
    "reversed_words = words[::-1]\n",
    "print(\"Reversed tuple:\", reversed_words)"
   ]
  },
  {
   "cell_type": "code",
   "execution_count": 16,
   "metadata": {},
   "outputs": [
    {
     "name": "stdout",
     "output_type": "stream",
     "text": [
      "Result: 10.0\n"
     ]
    }
   ],
   "source": [
    "try:\n",
    "    num = int(input(\"Enter a number to divide 10 by: \"))\n",
    "    result = 10 / num\n",
    "    print(\"Result:\", result)\n",
    "except ZeroDivisionError:\n",
    "    print(\"Error: Cannot divide by zero.\")"
   ]
  },
  {
   "cell_type": "code",
   "execution_count": 17,
   "metadata": {},
   "outputs": [
    {
     "name": "stdout",
     "output_type": "stream",
     "text": [
      "You entered: 2\n"
     ]
    }
   ],
   "source": [
    "try:\n",
    "    num = int(input(\"Enter an integer: \"))\n",
    "    print(\"You entered:\", num)\n",
    "except ValueError:\n",
    "    print(\"Error: Invalid input. Please enter a valid integer.\")"
   ]
  },
  {
   "cell_type": "code",
   "execution_count": 18,
   "metadata": {},
   "outputs": [
    {
     "name": "stdout",
     "output_type": "stream",
     "text": [
      "Error: File not found.\n"
     ]
    }
   ],
   "source": [
    "try:\n",
    "    with open(\"nonexistent_file.txt\", \"r\") as file:\n",
    "        content = file.read()\n",
    "except FileNotFoundError:\n",
    "    print(\"Error: File not found.\")"
   ]
  },
  {
   "cell_type": "code",
   "execution_count": null,
   "metadata": {},
   "outputs": [
    {
     "name": "stdout",
     "output_type": "stream",
     "text": [
      "Sum: 4.0\n"
     ]
    }
   ],
   "source": [
    "try:\n",
    "    a = float(input(\"Enter first number: \"))\n",
    "    b = float(input(\"Enter second number: \"))\n",
    "    print(\"Sum:\", a + b)\n",
    "except ValueError:\n",
    "    raise TypeError(\"Inputs must be numbers.\")"
   ]
  },
  {
   "cell_type": "code",
   "execution_count": 21,
   "metadata": {},
   "outputs": [
    {
     "name": "stdout",
     "output_type": "stream",
     "text": [
      "Error: The file does not exist.\n"
     ]
    }
   ],
   "source": [
    "try:\n",
    "    with open(\"/root/protected_file.txt\", \"r\") as file:\n",
    "        print(file.read())\n",
    "except PermissionError:\n",
    "    print(\"Error: You don't have permission to access this file.\")\n",
    "except FileNotFoundError:\n",
    "    print(\"Error: The file does not exist.\")"
   ]
  }
 ],
 "metadata": {
  "kernelspec": {
   "display_name": "Python 3",
   "language": "python",
   "name": "python3"
  },
  "language_info": {
   "codemirror_mode": {
    "name": "ipython",
    "version": 3
   },
   "file_extension": ".py",
   "mimetype": "text/x-python",
   "name": "python",
   "nbconvert_exporter": "python",
   "pygments_lexer": "ipython3",
   "version": "3.12.9"
  }
 },
 "nbformat": 4,
 "nbformat_minor": 2
}
