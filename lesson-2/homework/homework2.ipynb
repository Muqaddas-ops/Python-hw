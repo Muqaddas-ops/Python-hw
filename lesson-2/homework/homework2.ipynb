{
 "cells": [
  {
   "cell_type": "code",
   "execution_count": 9,
   "metadata": {},
   "outputs": [
    {
     "name": "stdout",
     "output_type": "stream",
     "text": [
      "Hello Muqaddas, you are 25 years old.\n"
     ]
    }
   ],
   "source": [
    "import random\n",
    "import string\n",
    "\n",
    "# 1. Age Calculator\n",
    "def age_calculator():\n",
    "    name = input(\"Enter your name:\")\n",
    "    birth_year = int(input(\"Enter your birth year:\"))\n",
    "    current_year = 2025\n",
    "    age = current_year - birth_year\n",
    "    print(f\"Hello {name}, you are {age} 25 years old.\")\n",
    "\n",
    "\n",
    "def age_calculator():\n",
    "    name = input(\"Enter your name: \")\n",
    "    birth_year = int(input(\"Enter your birth year: \"))\n",
    "    current_year = 2025  # We can update this if needed\n",
    "    age = current_year - birth_year\n",
    "    print(f\"Hello {name}, you are {age} years old.\")\n",
    "\n",
    "# Test the function\n",
    "age_calculator()\n"
   ]
  },
  {
   "cell_type": "code",
   "execution_count": null,
   "metadata": {},
   "outputs": [],
   "source": [
    "# 2. Extract Car Names from 'LMaasleitbtui' (Assuming 'Maserati')\n",
    "def extract_car_name1():\n",
    "    txt = 'LMaasleitbtui'\n",
    "    car_name = txt[1] + txt[2:7] + txt[11]  # 'Maserati'\n",
    "    print(car_name)\n",
    "    extract_car_name1()\n"
   ]
  },
  {
   "cell_type": "code",
   "execution_count": 33,
   "metadata": {},
   "outputs": [],
   "source": [
    "# 3. Extract Car Names from 'MsaatmiazD' (Assuming 'Mazda')\n",
    "def extract_car_name2():\n",
    "    txt = 'MsaatmiazD'\n",
    "    car_name = txt[0] + txt[4:8]  # 'Mazda'\n",
    "    print(car_name)\n",
    "    \n",
    "    extract_car_name2()\n",
    "\n",
    "    "
   ]
  },
  {
   "cell_type": "code",
   "execution_count": null,
   "metadata": {},
   "outputs": [],
   "source": [
    "# 4. Extract Residence Area\n",
    "def extract_residence():\n",
    "    txt = \"I'am John. I am from London\"\n",
    "    words = txt.split()\n",
    "    print(words[-1])  # 'London'\n",
    "\n",
    "    extract_residence()"
   ]
  },
  {
   "cell_type": "code",
   "execution_count": null,
   "metadata": {},
   "outputs": [],
   "source": [
    "# 5. Reverse String\n",
    "def reverse_string():\n",
    "    txt = input(\"Enter a string: \")\n",
    "    print(txt[::-1])\n",
    "    reverse_string()\n",
    "\n"
   ]
  },
  {
   "cell_type": "code",
   "execution_count": null,
   "metadata": {},
   "outputs": [],
   "source": [
    "# 6. Count Vowels\n",
    "def count_vowels():\n",
    "    txt = input(\"Enter a string: \")\n",
    "    vowels = \"aeiouAEIOU\"\n",
    "    count = sum(1 for char in txt if char in vowels)\n",
    "    print(f\"Number of vowels: {count}\")\n",
    "    count_vowels()\n",
    "\n",
    "    "
   ]
  },
  {
   "cell_type": "code",
   "execution_count": null,
   "metadata": {},
   "outputs": [],
   "source": [
    "# 7. Find Maximum Value\n",
    "def find_max():\n",
    "    numbers = list(map(int, input(\"Enter numbers separated by space: \").split()))\n",
    "    print(f\"Maximum value: {max(numbers)}\")\n",
    "    find_max()"
   ]
  },
  {
   "cell_type": "code",
   "execution_count": null,
   "metadata": {},
   "outputs": [],
   "source": [
    "# 8. Check Palindrome\n",
    "def check_palindrome():\n",
    "    txt = input(\"Enter a word: \").lower()\n",
    "    print(\"Palindrome\" if txt == txt[::-1] else \"Not a palindrome\")\n",
    "    check_palindrome()\n"
   ]
  },
  {
   "cell_type": "code",
   "execution_count": null,
   "metadata": {},
   "outputs": [],
   "source": [
    "# 9. Extract Email Domain\n",
    "def extract_email_domain():\n",
    "    email = input(\"Enter your email: \")\n",
    "    print(f\"Domain: {email.split('@')[-1]}\")\n",
    "    extract_email_domain()\n"
   ]
  },
  {
   "cell_type": "code",
   "execution_count": null,
   "metadata": {},
   "outputs": [],
   "source": [
    "# 10. Generate Random Password\n",
    "def generate_password():\n",
    "    length = int(input(\"Enter password length: \"))\n",
    "    chars = string.ascii_letters + string.digits + string.punctuation\n",
    "    password = ''.join(random.choice(chars) for _ in range(length))\n",
    "    print(f\"Generated Password: {password}\")\n",
    "    \n",
    "    generate_password()\n",
    " "
   ]
  }
 ],
 "metadata": {
  "kernelspec": {
   "display_name": "Python 3",
   "language": "python",
   "name": "python3"
  },
  "language_info": {
   "codemirror_mode": {
    "name": "ipython",
    "version": 3
   },
   "file_extension": ".py",
   "mimetype": "text/x-python",
   "name": "python",
   "nbconvert_exporter": "python",
   "pygments_lexer": "ipython3",
   "version": "3.12.9"
  }
 },
 "nbformat": 4,
 "nbformat_minor": 2
}
