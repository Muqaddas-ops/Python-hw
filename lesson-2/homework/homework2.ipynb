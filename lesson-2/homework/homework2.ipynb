{
 "cells": [
  {
   "cell_type": "code",
   "execution_count": 9,
   "metadata": {},
   "outputs": [
    {
     "name": "stdout",
     "output_type": "stream",
     "text": [
      "Hello Muqaddas, you are 25 years old.\n"
     ]
    }
   ],
   "source": [
    "import random\n",
    "import string\n",
    "\n",
    "# 1. Age Calculator\n",
    "def age_calculator():\n",
    "    name = input(\"Enter your name:\")\n",
    "    birth_year = int(input(\"Enter your birth year:\"))\n",
    "    current_year = 2025\n",
    "    age = current_year - birth_year\n",
    "    print(f\"Hello {name}, you are {age} 25 years old.\")\n",
    "\n",
    "\n",
    "def age_calculator():\n",
    "    name = input(\"Enter your name: \")\n",
    "    birth_year = int(input(\"Enter your birth year: \"))\n",
    "    current_year = 2025  # You can update this if needed\n",
    "    age = current_year - birth_year\n",
    "    print(f\"Hello {name}, you are {age} years old.\")\n",
    "\n",
    "# Test the function\n",
    "age_calculator()\n"
   ]
  }
 ],
 "metadata": {
  "kernelspec": {
   "display_name": "Python 3",
   "language": "python",
   "name": "python3"
  },
  "language_info": {
   "codemirror_mode": {
    "name": "ipython",
    "version": 3
   },
   "file_extension": ".py",
   "mimetype": "text/x-python",
   "name": "python",
   "nbconvert_exporter": "python",
   "pygments_lexer": "ipython3",
   "version": "3.12.9"
  }
 },
 "nbformat": 4,
 "nbformat_minor": 2
}
