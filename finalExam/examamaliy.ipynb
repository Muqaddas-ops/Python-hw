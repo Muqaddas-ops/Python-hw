{
 "cells": [
  {
   "cell_type": "code",
   "execution_count": 1,
   "id": "6661d295",
   "metadata": {},
   "outputs": [
    {
     "name": "stdout",
     "output_type": "stream",
     "text": [
      "Random 3x3x3 Array:\n",
      " [[[0.01954558 0.54951183 0.65973245]\n",
      "  [0.38436379 0.27923884 0.16932023]\n",
      "  [0.90905555 0.55442501 0.10238481]]\n",
      "\n",
      " [[0.19525724 0.5363814  0.64014767]\n",
      "  [0.98952424 0.65090867 0.05313573]\n",
      "  [0.72177575 0.57478571 0.85819826]]\n",
      "\n",
      " [[0.86685392 0.20027312 0.74354619]\n",
      "  [0.99575565 0.17335493 0.41766454]\n",
      "  [0.42846309 0.72699732 0.62267327]]]\n"
     ]
    }
   ],
   "source": [
    "import numpy as np\n",
    "\n",
    "array_3x3x3 = np.random.rand(3, 3, 3)\n",
    "print(\"Random 3x3x3 Array:\\n\", array_3x3x3)"
   ]
  },
  {
   "cell_type": "code",
   "execution_count": 2,
   "id": "002ddd84",
   "metadata": {},
   "outputs": [
    {
     "name": "stdout",
     "output_type": "stream",
     "text": [
      "First 3 rows:\n",
      "   first_name  age           city\n",
      "0      Alice   25       New York\n",
      "1        Bob   30  San Francisco\n",
      "2    Charlie   35    Los Angeles\n",
      "Mean Age: 32.5\n",
      "Selected Columns:\n",
      "   first_name           city\n",
      "0      Alice       New York\n",
      "1        Bob  San Francisco\n",
      "2    Charlie    Los Angeles\n",
      "3      David        Chicago\n",
      "Summary Statistics:\n",
      "        first_name        age      city        salary\n",
      "count           4   4.000000         4      4.000000\n",
      "unique          4        NaN         4           NaN\n",
      "top         Alice        NaN  New York           NaN\n",
      "freq            1        NaN         1           NaN\n",
      "mean          NaN  32.500000       NaN  80787.000000\n",
      "std           NaN   6.454972       NaN   9992.536715\n",
      "min           NaN  25.000000       NaN  69934.000000\n",
      "25%           NaN  28.750000       NaN  76769.500000\n",
      "50%           NaN  32.500000       NaN  79539.500000\n",
      "75%           NaN  36.250000       NaN  83557.000000\n",
      "max           NaN  40.000000       NaN  94135.000000\n"
     ]
    }
   ],
   "source": [
    "import pandas as pd\n",
    "import numpy as np\n",
    "\n",
    "data = {\n",
    "    'First Name': ['Alice', 'Bob', 'Charlie', 'David'],\n",
    "    'Age': [25, 30, 35, 40],\n",
    "    'City': ['New York', 'San Francisco', 'Los Angeles', 'Chicago']\n",
    "}\n",
    "df = pd.DataFrame(data)\n",
    "\n",
    "df.columns = [col.lower().replace(\" \", \"_\") for col in df.columns]\n",
    "\n",
    "print(\"First 3 rows:\\n\", df.head(3))\n",
    "\n",
    "print(\"Mean Age:\", df['age'].mean())\n",
    "\n",
    "print(\"Selected Columns:\\n\", df[['first_name', 'city']])\n",
    "\n",
    "df['salary'] = np.random.randint(40000, 100000, size=len(df))\n",
    "\n",
    "print(\"Summary Statistics:\\n\", df.describe(include='all'))"
   ]
  },
  {
   "cell_type": "code",
   "execution_count": 13,
   "id": "4f308336",
   "metadata": {},
   "outputs": [
    {
     "name": "stdout",
     "output_type": "stream",
     "text": [
      "City: Tashkent\n",
      "Temperature: 29.59 °C\n",
      "Humidity: 16 %\n",
      "Weather: scattered clouds\n"
     ]
    }
   ],
   "source": [
    "import requests\n",
    "\n",
    "API_KEY = \"131ef48faf4bcf0b4dacd0545d308087\"  \n",
    "city = \"Tashkent\"\n",
    "url = f\"https://api.openweathermap.org/data/2.5/weather?q={city}&appid={API_KEY}&units=metric\"\n",
    "\n",
    "response = requests.get(url)\n",
    "data = response.json()\n",
    "\n",
    "if response.status_code == 200:\n",
    "    print(\"City:\", data[\"name\"])\n",
    "    print(\"Temperature:\", data[\"main\"][\"temp\"], \"°C\")\n",
    "    print(\"Humidity:\", data[\"main\"][\"humidity\"], \"%\")\n",
    "    print(\"Weather:\", data[\"weather\"][0][\"description\"])\n",
    "else:\n",
    "    print(\"Error fetching data:\", data.get(\"message\", \"Unknown error\"))"
   ]
  },
  {
   "cell_type": "code",
   "execution_count": 5,
   "id": "f0887ee8",
   "metadata": {},
   "outputs": [
    {
     "name": "stdout",
     "output_type": "stream",
     "text": [
      "Original array: [10 20 30]\n",
      "After append values to the end of the array: [10 20 30 40 50 60 70 80 90]\n"
     ]
    }
   ],
   "source": [
    "import numpy as np\n",
    "\n",
    "original_array = np.array([10, 20, 30])\n",
    "values_to_append = [40, 50, 60, 70, 80, 90]\n",
    "\n",
    "new_array = np.append(original_array, values_to_append)\n",
    "\n",
    "print(\"Original array:\", original_array)\n",
    "print(\"After append values to the end of the array:\", new_array)"
   ]
  },
  {
   "cell_type": "code",
   "execution_count": 22,
   "id": "6520284b",
   "metadata": {},
   "outputs": [
    {
     "name": "stdout",
     "output_type": "stream",
     "text": [
      "  - Internet Movie Database: 7.6/10\n",
      "  - Rotten Tomatoes: 85%\n",
      "  - Metacritic: 67/100\n",
      "Movie not found.\n"
     ]
    }
   ],
   "source": [
    "import json\n",
    "import requests\n",
    "import random\n",
    "\n",
    "API_KEY = \"8f8a91c4\"  \n",
    "BASE_URL = \"http://www.omdbapi.com/?i=tt3896198&apikey=8f8a91c4\"\n",
    "\n",
    "movie_data = {\n",
    "    \"Title\": \"Guardians of the Galaxy Vol. 2\",\n",
    "    \"Year\": \"2017\",\n",
    "    \"Rated\": \"PG-13\",\n",
    "    \"Released\": \"05 May 2017\",\n",
    "    \"Runtime\": \"136 min\",\n",
    "    \"Genre\": \"Action, Adventure, Comedy\",\n",
    "    \"Director\": \"James Gunn\",\n",
    "    \"Writer\": \"James Gunn, Dan Abnett, Andy Lanning\",\n",
    "    \"Actors\": \"Chris Pratt, Zoe Saldaña, Dave Bautista\",\n",
    "    \"Plot\": \"The Guardians struggle to keep together as a team while dealing with their personal family issues, notably Star-Lord's encounter with his father, the ambitious celestial being Ego.\",\n",
    "    \"Language\": \"English\",\n",
    "    \"Country\": \"United States\",\n",
    "    \"Awards\": \"Nominated for 1 Oscar. 15 wins & 60 nominations total\",\n",
    "    \"Poster\": \"https://m.media-amazon.com/images/M/MV5BNWE5MGI3MDctMmU5Ni00YzI2LWEzMTQtZGIyZDA5MzQzNDBhXkEyXkFqcGc@._V1_SX300.jpg\",\n",
    "    \"Ratings\": [\n",
    "        {\"Source\": \"Internet Movie Database\", \"Value\": \"7.6/10\"},\n",
    "        {\"Source\": \"Rotten Tomatoes\", \"Value\": \"85%\"},\n",
    "        {\"Source\": \"Metacritic\", \"Value\": \"67/100\"}\n",
    "    ],\n",
    "    \"Metascore\": \"67\",\n",
    "    \"imdbRating\": \"7.6\",\n",
    "    \"imdbVotes\": \"792,363\",\n",
    "    \"imdbID\": \"tt3896198\",\n",
    "    \"Type\": \"movie\",\n",
    "    \"DVD\": \"N/A\",\n",
    "    \"BoxOffice\": \"$389,813,101\",\n",
    "    \"Production\": \"N/A\",\n",
    "    \"Website\": \"N/A\",\n",
    "    \"Response\": \"True\"\n",
    "}\n",
    "\n",
    "if genre not in genre_movies:\n",
    "    print(\"Sorry, genre not supported.\")\n",
    "else:\n",
    "    movie_title = random.choice(genre_movies[genre])\n",
    "    params = {\"t\": movie_title, \"apikey\": API_KEY}\n",
    "    response = requests.get(BASE_URL, params=params)\n",
    "    data = response.json()\n",
    "\n",
    "    if data[\"Response\"] == \"True\":\n",
    "        print(f\"\\nMovie Recommendation ({genre.capitalize()})\")\n",
    "        print(\"Title:\", data[\"Title\"])\n",
    "        print(\"Year:\", data[\"Year\"])\n",
    "        print(\"Genre:\", data[\"Genre\"])\n",
    "        print(\"Rated:\", movie_data[\"Rated\"])\n",
    "        print(\"Released:\", movie_data[\"Released\"])\n",
    "        print(\"Runtime:\", movie_data[\"Runtime\"])\n",
    "        print(\"Director:\", movie_data[\"Director\"])\n",
    "        print(\"Writer:\", movie_data[\"Writer\"])\n",
    "        print(\"Actors:\", movie_data[\"Actors\"])\n",
    "        print(\"Plot:\", data[\"Plot\"])\n",
    "        print(\"Language:\", movie_data[\"Language\"])\n",
    "        print(\"Country:\", movie_data[\"Country\"]) \n",
    "        print(\"IMDB Rating:\", data[\"imdbRating\"])\n",
    "        print(\"Box Office Collection:\", movie_data[\"BoxOffice\"])\n",
    "        print(\"Awards:\", movie_data[\"Awards\"])\n",
    "        print(\"Ratings:\")\n",
    "\n",
    "    for rating in movie_data[\"Ratings\"]:\n",
    "        print(f\"  - {rating['Source']}: {rating['Value']}\")\n",
    "\n",
    "    else:\n",
    "        print(\"Movie not found.\")\n",
    "\n",
    "    "
   ]
  }
 ],
 "metadata": {
  "kernelspec": {
   "display_name": "Python 3",
   "language": "python",
   "name": "python3"
  },
  "language_info": {
   "codemirror_mode": {
    "name": "ipython",
    "version": 3
   },
   "file_extension": ".py",
   "mimetype": "text/x-python",
   "name": "python",
   "nbconvert_exporter": "python",
   "pygments_lexer": "ipython3",
   "version": "3.12.9"
  }
 },
 "nbformat": 4,
 "nbformat_minor": 5
}
