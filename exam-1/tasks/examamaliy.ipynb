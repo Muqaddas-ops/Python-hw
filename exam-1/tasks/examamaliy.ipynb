{
 "cells": [
  {
   "cell_type": "code",
   "execution_count": null,
   "metadata": {},
   "outputs": [
    {
     "name": "stdout",
     "output_type": "stream",
     "text": [
      "Reversed string: .dlroW olleH\n"
     ]
    }
   ],
   "source": [
    "#Question-1: Reverse string\n",
    "\n",
    "user_input = (\"Hello World.\")\n",
    "reversed_string = user_input[::-1]\n",
    "print(\"Reversed string:\", reversed_string) #output: dlroW olleH"
   ]
  },
  {
   "cell_type": "code",
   "execution_count": null,
   "metadata": {},
   "outputs": [
    {
     "name": "stdout",
     "output_type": "stream",
     "text": [
      "Missing from [3, 0, 1]: [2]\n",
      "Missing from [9, 6, 4, 2, 3, 12, 5, 7, 0, 1]: [8, 10, 11]\n"
     ]
    }
   ],
   "source": [
    "#Question 2: Missing Number \n",
    "def missing_number(lst):\n",
    "    n = max (lst)  \n",
    "    full_set = set (range(n + 1))  \n",
    "    missing = list (full_set - set(lst)) \n",
    "    return sorted (missing)\n",
    "\n",
    "#Example:\n",
    "\n",
    "print(\"Missing from [3, 0, 1]:\", missing_number([3, 0, 1]))  \n",
    "print(\"Missing from [9, 6, 4, 2, 3, 12, 5, 7, 0, 1]:\", missing_number([9, 6, 4, 2, 3, 12, 5, 7, 0, 1]))  "
   ]
  },
  {
   "cell_type": "code",
   "execution_count": 24,
   "metadata": {},
   "outputs": [
    {
     "name": "stdout",
     "output_type": "stream",
     "text": [
      "Number of vowels: 3\n"
     ]
    }
   ],
   "source": [
    "#Question 3: Count vowels \n",
    "\n",
    "def count_vowels_in_sentence(sentence):\n",
    "    vowels = 'aeiouAEIOU'\n",
    "    count = 0\n",
    "    for char in sentence:\n",
    "        if char in vowels:\n",
    "            count += 1\n",
    "    return count\n",
    "\n",
    "# Example usage:\n",
    "sentence = input(\"Enter a sentence: \")\n",
    "print(\"Number of vowels:\", count_vowels_in_sentence(sentence)) #output: In this case we may enter any sentence, for instance: Hello World (result: 3), then it will be automatically caunted the number of vowels"
   ]
  },
  {
   "cell_type": "code",
   "execution_count": 29,
   "metadata": {},
   "outputs": [
    {
     "name": "stdout",
     "output_type": "stream",
     "text": [
      "Prime numbers up to 20 : [2, 3, 5, 7, 11, 13, 17, 19]\n"
     ]
    }
   ],
   "source": [
    "#Question 4: Prime Number Generator \n",
    "\n",
    "def is_prime(num):\n",
    "    if num < 2:\n",
    "        return False\n",
    "    for i in range(2, int(num ** 0.5) + 1):\n",
    "        if num % i == 0:\n",
    "            return False\n",
    "    return True\n",
    "\n",
    "limit = int(input(\"Enter the upper limit to generate prime numbers: \"))\n",
    "primes = [i for i in range(2, limit + 1) if is_prime(i)]\n",
    "print(\"Prime numbers up to\", limit, \":\", primes)  #For example: Enter the upper limit to generate prime numbers: 20\n"
   ]
  }
 ],
 "metadata": {
  "kernelspec": {
   "display_name": "Python 3",
   "language": "python",
   "name": "python3"
  },
  "language_info": {
   "codemirror_mode": {
    "name": "ipython",
    "version": 3
   },
   "file_extension": ".py",
   "mimetype": "text/x-python",
   "name": "python",
   "nbconvert_exporter": "python",
   "pygments_lexer": "ipython3",
   "version": "3.12.9"
  }
 },
 "nbformat": 4,
 "nbformat_minor": 2
}
