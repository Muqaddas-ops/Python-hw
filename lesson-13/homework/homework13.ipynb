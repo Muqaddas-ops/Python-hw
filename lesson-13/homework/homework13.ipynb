{
 "cells": [
  {
   "cell_type": "code",
   "execution_count": null,
   "id": "e0079792",
   "metadata": {},
   "outputs": [
    {
     "name": "stdout",
     "output_type": "stream",
     "text": [
      "You are 25 years, 8 months, and 25 days old.\n"
     ]
    }
   ],
   "source": [
    "from datetime import datetime\n",
    "\n",
    "birthdate = input(\"Enter your birthdate (YYYY-MM-DD): \")\n",
    "birth = datetime.strptime(birthdate, \"%Y-%m-%d\")\n",
    "today = datetime.today()\n",
    "\n",
    "years = today.year - birth.year\n",
    "months = today.month - birth.month\n",
    "days = today.day - birth.day\n",
    "\n",
    "if days < 0:\n",
    "    months -= 1\n",
    "    days += 30  \n",
    "\n",
    "if months < 0:\n",
    "    years -= 1\n",
    "    months += 12\n",
    "\n",
    "print(f\"You are {years} years, {months} months, and {days} days old.\")"
   ]
  },
  {
   "cell_type": "code",
   "execution_count": 2,
   "id": "3738acb3",
   "metadata": {},
   "outputs": [
    {
     "name": "stdout",
     "output_type": "stream",
     "text": [
      "Days until your next birthday: 96\n"
     ]
    }
   ],
   "source": [
    "from datetime import datetime, timedelta\n",
    "\n",
    "birthdate = input(\"Enter your birthdate (MM-DD): \")\n",
    "this_year = datetime.now().year\n",
    "next_birthday = datetime.strptime(f\"{this_year}-{birthdate}\", \"%Y-%m-%d\")\n",
    "today = datetime.today()\n",
    "\n",
    "if next_birthday < today:\n",
    "    next_birthday = next_birthday.replace(year=this_year + 1)\n",
    "\n",
    "days_remaining = (next_birthday - today).days\n",
    "print(f\"Days until your next birthday: {days_remaining}\")"
   ]
  },
  {
   "cell_type": "code",
   "execution_count": 3,
   "id": "2385f053",
   "metadata": {},
   "outputs": [
    {
     "name": "stdout",
     "output_type": "stream",
     "text": [
      "The meeting will end at: 2025-08-16 13:07:00\n"
     ]
    }
   ],
   "source": [
    "from datetime import datetime, timedelta\n",
    "\n",
    "now_str = input(\"Enter current date and time (YYYY-MM-DD HH:MM): \")\n",
    "hours = int(input(\"Meeting duration - hours: \"))\n",
    "minutes = int(input(\"Meeting duration - minutes: \"))\n",
    "\n",
    "start = datetime.strptime(now_str, \"%Y-%m-%d %H:%M\")\n",
    "end = start + timedelta(hours=hours, minutes=minutes)\n",
    "\n",
    "print(f\"The meeting will end at: {end}\")"
   ]
  },
  {
   "cell_type": "code",
   "execution_count": 5,
   "id": "3aa7746e",
   "metadata": {},
   "outputs": [
    {
     "name": "stdout",
     "output_type": "stream",
     "text": [
      "Converted date and time: 2025-05-11 13:36:00-04:00\n"
     ]
    }
   ],
   "source": [
    "from datetime import datetime\n",
    "import pytz\n",
    "\n",
    "dt_str = input(\"Enter date and time (YYYY-MM-DD HH:MM): \")\n",
    "from_tz = input(\"Enter your timezone (e.g., Asia/Tashkent): \")\n",
    "to_tz = input(\"Enter target timezone (e.g., US/Eastern): \")\n",
    "\n",
    "from_zone = pytz.timezone(from_tz)\n",
    "to_zone = pytz.timezone(to_tz)\n",
    "\n",
    "naive = datetime.strptime(dt_str, \"%Y-%m-%d %H:%M\")\n",
    "local_dt = from_zone.localize(naive)\n",
    "target_dt = local_dt.astimezone(to_zone)\n",
    "\n",
    "print(f\"Converted date and time: {target_dt}\")"
   ]
  },
  {
   "cell_type": "code",
   "execution_count": 6,
   "id": "a509942d",
   "metadata": {},
   "outputs": [
    {
     "name": "stdout",
     "output_type": "stream",
     "text": [
      "Time's up!ning: 0:00:00.209184\n"
     ]
    }
   ],
   "source": [
    "from datetime import datetime\n",
    "import time\n",
    "\n",
    "future_str = input(\"Enter future date and time (YYYY-MM-DD HH:MM:SS): \")\n",
    "future = datetime.strptime(future_str, \"%Y-%m-%d %H:%M:%S\")\n",
    "\n",
    "while True:\n",
    "    now = datetime.now()\n",
    "    if now >= future:\n",
    "        print(\"Time's up!\")\n",
    "        break\n",
    "    remaining = future - now\n",
    "    print(f\"Time remaining: {remaining}\", end='\\r')\n",
    "    time.sleep(1)"
   ]
  },
  {
   "cell_type": "code",
   "execution_count": 7,
   "id": "bfb4012f",
   "metadata": {},
   "outputs": [
    {
     "name": "stdout",
     "output_type": "stream",
     "text": [
      "Time's up!\n"
     ]
    }
   ],
   "source": [
    "from datetime import datetime\n",
    "import time\n",
    "\n",
    "future_str = input(\"Enter future date and time (YYYY-MM-DD HH:MM:SS): \")\n",
    "future = datetime.strptime(future_str, \"%Y-%m-%d %H:%M:%S\")\n",
    "\n",
    "while True:\n",
    "    now = datetime.now()\n",
    "    if now >= future:\n",
    "        print(\"Time's up!\")\n",
    "        break\n",
    "    remaining = future - now\n",
    "    print(f\"Time remaining: {remaining}\", end='\\r')\n",
    "    time.sleep(1)"
   ]
  },
  {
   "cell_type": "code",
   "execution_count": 8,
   "id": "34141df7",
   "metadata": {},
   "outputs": [
    {
     "name": "stdout",
     "output_type": "stream",
     "text": [
      "Formatted phone number: (998) 599-9715\n"
     ]
    }
   ],
   "source": [
    "phone = input(\"Enter 10-digit phone number: \")\n",
    "\n",
    "if len(phone) == 10 and phone.isdigit():\n",
    "    formatted = f\"({phone[:3]}) {phone[3:6]}-{phone[6:]}\"\n",
    "    print(\"Formatted phone number:\", formatted)\n",
    "else:\n",
    "    print(\"Invalid input. Enter exactly 10 digits.\")"
   ]
  },
  {
   "cell_type": "code",
   "execution_count": 10,
   "id": "afc17652",
   "metadata": {},
   "outputs": [
    {
     "name": "stdout",
     "output_type": "stream",
     "text": [
      "Strong password.\n"
     ]
    }
   ],
   "source": [
    "import re\n",
    "\n",
    "password = input(\"Enter your password: \")\n",
    "\n",
    "length = len(password) >= 8\n",
    "upper = re.search(r'[A-Z]', password)\n",
    "lower = re.search(r'[a-z]', password)\n",
    "digit = re.search(r'\\d', password)\n",
    "\n",
    "if length and upper and lower and digit:\n",
    "    print(\"Strong password.\")\n",
    "else:\n",
    "    print(\"Weak password. Include upper, lower, digit and minimum 8 characters.\")"
   ]
  },
  {
   "cell_type": "code",
   "execution_count": 11,
   "id": "4aff9817",
   "metadata": {},
   "outputs": [
    {
     "name": "stdout",
     "output_type": "stream",
     "text": [
      "Found 0 occurrences at positions: []\n"
     ]
    }
   ],
   "source": [
    "text = \"This is a sample text. The word sample appears twice. Sample cases vary.\"\n",
    "word = input(\"Enter word to find: \").lower()\n",
    "\n",
    "words = text.lower().split()\n",
    "matches = [i for i, w in enumerate(words) if w.strip(\".,\") == word]\n",
    "\n",
    "print(f\"Found {len(matches)} occurrences at positions: {matches}\")"
   ]
  },
  {
   "cell_type": "code",
   "execution_count": 12,
   "id": "01840e45",
   "metadata": {},
   "outputs": [
    {
     "name": "stdout",
     "output_type": "stream",
     "text": [
      "No dates found.\n"
     ]
    }
   ],
   "source": [
    "import re\n",
    "\n",
    "text = input(\"Enter text containing dates: \")\n",
    "dates = re.findall(r'\\b\\d{4}-\\d{2}-\\d{2}\\b', text)\n",
    "\n",
    "if dates:\n",
    "    print(\"Dates found:\", dates)\n",
    "else:\n",
    "    print(\"No dates found.\")"
   ]
  }
 ],
 "metadata": {
  "kernelspec": {
   "display_name": "Python 3",
   "language": "python",
   "name": "python3"
  },
  "language_info": {
   "codemirror_mode": {
    "name": "ipython",
    "version": 3
   },
   "file_extension": ".py",
   "mimetype": "text/x-python",
   "name": "python",
   "nbconvert_exporter": "python",
   "pygments_lexer": "ipython3",
   "version": "3.12.9"
  }
 },
 "nbformat": 4,
 "nbformat_minor": 5
}
