{
 "cells": [
  {
   "cell_type": "code",
   "execution_count": 1,
   "metadata": {},
   "outputs": [
    {
     "name": "stdout",
     "output_type": "stream",
     "text": [
      "Primes found: [2, 3, 5, 7, 11, 13, 17, 19, 23, 29, 31, 37, 41, 43, 47, 53, 59, 61, 67, 71, 73, 79, 83, 89, 97]\n"
     ]
    }
   ],
   "source": [
    "import threading\n",
    "\n",
    "def is_prime(n):\n",
    "    if n <= 1:\n",
    "        return False\n",
    "    if n <= 3:\n",
    "        return True\n",
    "    if n % 2 == 0 or n % 3 == 0:\n",
    "        return False\n",
    "    i = 5\n",
    "    while i * i <= n:\n",
    "        if n % i == 0 or n % (i + 2) == 0:\n",
    "            return False\n",
    "        i += 6\n",
    "    return True\n",
    "\n",
    "def check_primes(start, end, result):\n",
    "    primes = []\n",
    "    for num in range(start, end):\n",
    "        if is_prime(num):\n",
    "            primes.append(num)\n",
    "    result.extend(primes)\n",
    "\n",
    "def threaded_prime_checker(range_start, range_end, num_threads=4):\n",
    "    threads = []\n",
    "    results = []\n",
    "    result_lock = threading.Lock()\n",
    "    chunk_size = (range_end - range_start) // num_threads\n",
    "\n",
    "    def thread_task(start, end):\n",
    "        local_result = []\n",
    "        check_primes(start, end, local_result)\n",
    "        with result_lock:\n",
    "            results.extend(local_result)\n",
    "\n",
    "    for i in range(num_threads):\n",
    "        start = range_start + i * chunk_size\n",
    "        end = range_start + (i + 1) * chunk_size if i < num_threads - 1 else range_end\n",
    "        thread = threading.Thread(target=thread_task, args=(start, end))\n",
    "        threads.append(thread)\n",
    "        thread.start()\n",
    "\n",
    "    for thread in threads:\n",
    "        thread.join()\n",
    "\n",
    "    print(\"Primes found:\", sorted(results))\n",
    "\n",
    "\n",
    "# Example usage:\n",
    "threaded_prime_checker(1, 100, num_threads=4)"
   ]
  }
 ],
 "metadata": {
  "kernelspec": {
   "display_name": "Python 3",
   "language": "python",
   "name": "python3"
  },
  "language_info": {
   "codemirror_mode": {
    "name": "ipython",
    "version": 3
   },
   "file_extension": ".py",
   "mimetype": "text/x-python",
   "name": "python",
   "nbconvert_exporter": "python",
   "pygments_lexer": "ipython3",
   "version": "3.12.9"
  }
 },
 "nbformat": 4,
 "nbformat_minor": 2
}
