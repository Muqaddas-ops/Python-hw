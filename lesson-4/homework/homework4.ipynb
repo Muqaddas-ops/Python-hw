{
 "cells": [
  {
   "cell_type": "code",
   "execution_count": 1,
   "metadata": {},
   "outputs": [
    {
     "name": "stdout",
     "output_type": "stream",
     "text": [
      "Ascending: {'b': 1, 'c': 2, 'a': 3}\n",
      "Descending: {'a': 3, 'c': 2, 'b': 1}\n"
     ]
    }
   ],
   "source": [
    "# 1. Sort a Dictionary by Value\n",
    "sample_dict = {'a': 3, 'b': 1, 'c': 2}\n",
    "\n",
    "# Ascending\n",
    "asc_sorted = dict(sorted(sample_dict.items(), key=lambda item: item[1]))\n",
    "print(\"Ascending:\", asc_sorted)\n",
    "\n",
    "# Descending\n",
    "desc_sorted = dict(sorted(sample_dict.items(), key=lambda item: item[1], reverse=True))\n",
    "print(\"Descending:\", desc_sorted)\n"
   ]
  },
  {
   "cell_type": "code",
   "execution_count": 2,
   "metadata": {},
   "outputs": [
    {
     "name": "stdout",
     "output_type": "stream",
     "text": [
      "Updated dictionary: {0: 10, 1: 20, 2: 30}\n"
     ]
    }
   ],
   "source": [
    "# 2. Add a Key to a Dictionary\n",
    "d = {0: 10, 1: 20}\n",
    "d[2] = 30\n",
    "print(\"Updated dictionary:\", d)\n"
   ]
  },
  {
   "cell_type": "code",
   "execution_count": 7,
   "metadata": {},
   "outputs": [
    {
     "name": "stdout",
     "output_type": "stream",
     "text": [
      "Concatenated dictionary: {1: 10, 2: 20, 3: 30, 4: 40, 5: 50, 6: 60}\n"
     ]
    }
   ],
   "source": [
    "# 3. Concatenate Multiple Dictionaries\n",
    "dic1 = {1: 10, 2: 20}\n",
    "dic2 = {3: 30, 4: 40}\n",
    "dic3 = {5: 50, 6: 60}\n",
    "\n",
    "result = {}\n",
    "result.update(dic1)\n",
    "result.update(dic2)\n",
    "result.update(dic3)\n",
    "\n",
    "print(\"Concatenated dictionary:\", result)"
   ]
  },
  {
   "cell_type": "code",
   "execution_count": 8,
   "metadata": {},
   "outputs": [
    {
     "name": "stdout",
     "output_type": "stream",
     "text": [
      "Squares dictionary: {1: 1, 2: 4, 3: 9, 4: 16, 5: 25}\n"
     ]
    }
   ],
   "source": [
    "# 4. Generate a Dictionary with Squares (n = 5)\n",
    "n = 5\n",
    "squares_dict = {x: x*x for x in range(1, n+1)}\n",
    "print(\"Squares dictionary:\", squares_dict)"
   ]
  },
  {
   "cell_type": "code",
   "execution_count": 9,
   "metadata": {},
   "outputs": [
    {
     "name": "stdout",
     "output_type": "stream",
     "text": [
      "Squares from 1 to 15: {1: 1, 2: 4, 3: 9, 4: 16, 5: 25, 6: 36, 7: 49, 8: 64, 9: 81, 10: 100, 11: 121, 12: 144, 13: 169, 14: 196, 15: 225}\n"
     ]
    }
   ],
   "source": [
    "# 5. Dictionary of Squares (1 to 15)\n",
    "squares_1_to_15 = {x: x**2 for x in range(1, 16)}\n",
    "print(\"Squares from 1 to 15:\", squares_1_to_15)"
   ]
  },
  {
   "cell_type": "code",
   "execution_count": 10,
   "metadata": {},
   "outputs": [
    {
     "name": "stdout",
     "output_type": "stream",
     "text": [
      "Created set: {1, 2, 3, 4, 5}\n"
     ]
    }
   ],
   "source": [
    "# 1. Create a Set\n",
    "my_set = {1, 2, 3, 4, 5}\n",
    "print(\"Created set:\", my_set)"
   ]
  },
  {
   "cell_type": "code",
   "execution_count": 11,
   "metadata": {},
   "outputs": [
    {
     "name": "stdout",
     "output_type": "stream",
     "text": [
      "Iterating over set:\n",
      "1\n",
      "2\n",
      "3\n",
      "4\n",
      "5\n"
     ]
    }
   ],
   "source": [
    "# 2. Iterate Over a Set\n",
    "print(\"Iterating over set:\")\n",
    "for item in my_set:\n",
    "    print(item)"
   ]
  },
  {
   "cell_type": "code",
   "execution_count": 12,
   "metadata": {},
   "outputs": [
    {
     "name": "stdout",
     "output_type": "stream",
     "text": [
      "After adding elements: {1, 2, 3, 4, 5, 6, 7, 8}\n"
     ]
    }
   ],
   "source": [
    "# 3. Add Member(s) to a Set\n",
    "my_set.add(6)\n",
    "my_set.update([7, 8])\n",
    "print(\"After adding elements:\", my_set)"
   ]
  },
  {
   "cell_type": "code",
   "execution_count": 13,
   "metadata": {},
   "outputs": [
    {
     "name": "stdout",
     "output_type": "stream",
     "text": [
      "After removal: {1, 4, 5, 6, 7, 8}\n"
     ]
    }
   ],
   "source": [
    "# 4. Remove Item(s) from a Set\n",
    "my_set.discard(2)  # Safe removal (no error if not present)\n",
    "my_set.remove(3)   # Will raise error if not present\n",
    "print(\"After removal:\", my_set)"
   ]
  },
  {
   "cell_type": "code",
   "execution_count": 14,
   "metadata": {},
   "outputs": [
    {
     "name": "stdout",
     "output_type": "stream",
     "text": [
      "Set after conditional removal: {1, 5, 6, 7, 8}\n"
     ]
    }
   ],
   "source": [
    "# 5. Remove an Item if Present in the Set\n",
    "item_to_remove = 4\n",
    "if item_to_remove in my_set:\n",
    "    my_set.remove(item_to_remove)\n",
    "print(\"Set after conditional removal:\", my_set)"
   ]
  }
 ],
 "metadata": {
  "kernelspec": {
   "display_name": "Python 3",
   "language": "python",
   "name": "python3"
  },
  "language_info": {
   "codemirror_mode": {
    "name": "ipython",
    "version": 3
   },
   "file_extension": ".py",
   "mimetype": "text/x-python",
   "name": "python",
   "nbconvert_exporter": "python",
   "pygments_lexer": "ipython3",
   "version": "3.12.9"
  }
 },
 "nbformat": 4,
 "nbformat_minor": 2
}
