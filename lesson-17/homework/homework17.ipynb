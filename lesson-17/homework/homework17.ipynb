{
 "cells": [
  {
   "cell_type": "code",
   "execution_count": 1,
   "id": "da18a047",
   "metadata": {},
   "outputs": [
    {
     "name": "stdout",
     "output_type": "stream",
     "text": [
      "First 3 rows:\n",
      "  first_name  age           city\n",
      "0      Alice   25       New York\n",
      "1        Bob   30  San Francisco\n",
      "2    Charlie   35    Los Angeles\n",
      "\n",
      "Mean Age: 32.5\n",
      "\n",
      "Name and City columns:\n",
      "  first_name           city\n",
      "0      Alice       New York\n",
      "1        Bob  San Francisco\n",
      "2    Charlie    Los Angeles\n",
      "3      David        Chicago\n",
      "\n",
      "Summary Statistics:\n",
      "       first_name        age      city        salary\n",
      "count           4   4.000000         4      4.000000\n",
      "unique          4        NaN         4           NaN\n",
      "top         Alice        NaN  New York           NaN\n",
      "freq            1        NaN         1           NaN\n",
      "mean          NaN  32.500000       NaN  65650.000000\n",
      "std           NaN   6.454972       NaN  12833.973144\n",
      "min           NaN  25.000000       NaN  49520.000000\n",
      "25%           NaN  28.750000       NaN  59547.500000\n",
      "50%           NaN  32.500000       NaN  66545.000000\n",
      "75%           NaN  36.250000       NaN  72647.500000\n",
      "max           NaN  40.000000       NaN  79990.000000\n"
     ]
    }
   ],
   "source": [
    "import pandas as pd\n",
    "import numpy as np  # For generating random salary values\n",
    "\n",
    "# Create initial DataFrame\n",
    "data = {\n",
    "    'First Name': ['Alice', 'Bob', 'Charlie', 'David'],\n",
    "    'Age': [25, 30, 35, 40],\n",
    "    'City': ['New York', 'San Francisco', 'Los Angeles', 'Chicago']\n",
    "}\n",
    "df = pd.DataFrame(data)\n",
    "\n",
    "# Rename columns using a function\n",
    "df.rename(columns=lambda x: x.lower().replace(' ', '_'), inplace=True)\n",
    "\n",
    "# Print first 3 rows\n",
    "print(\"First 3 rows:\")\n",
    "print(df.head(3))\n",
    "\n",
    "# Find mean age\n",
    "mean_age = df['age'].mean()\n",
    "print(\"\\nMean Age:\", mean_age)\n",
    "\n",
    "# Select and print only the 'first_name' and 'city' columns\n",
    "print(\"\\nName and City columns:\")\n",
    "print(df[['first_name', 'city']])\n",
    "\n",
    "# Add a new column 'salary' with random values\n",
    "df['salary'] = np.random.randint(40000, 80000, size=len(df))\n",
    "\n",
    "# Display summary statistics\n",
    "print(\"\\nSummary Statistics:\")\n",
    "print(df.describe(include='all'))\n"
   ]
  },
  {
   "cell_type": "code",
   "execution_count": 2,
   "id": "92c84f57",
   "metadata": {},
   "outputs": [
    {
     "name": "stdout",
     "output_type": "stream",
     "text": [
      "\n",
      "Max Sales: 8000\n",
      "Max Expenses: 4500\n",
      "\n",
      "Min Sales: 5000\n",
      "Min Expenses: 3000\n",
      "\n",
      "Average Sales: 6625.0\n",
      "Average Expenses: 3750.0\n"
     ]
    }
   ],
   "source": [
    "# Create DataFrame for sales and expenses\n",
    "data = {\n",
    "    'Month': ['Jan', 'Feb', 'Mar', 'Apr'],\n",
    "    'Sales': [5000, 6000, 7500, 8000],\n",
    "    'Expenses': [3000, 3500, 4000, 4500]\n",
    "}\n",
    "sales_and_expenses = pd.DataFrame(data)\n",
    "\n",
    "# Maximum values\n",
    "max_sales = sales_and_expenses['Sales'].max()\n",
    "max_expenses = sales_and_expenses['Expenses'].max()\n",
    "print(\"\\nMax Sales:\", max_sales)\n",
    "print(\"Max Expenses:\", max_expenses)\n",
    "\n",
    "# Minimum values\n",
    "min_sales = sales_and_expenses['Sales'].min()\n",
    "min_expenses = sales_and_expenses['Expenses'].min()\n",
    "print(\"\\nMin Sales:\", min_sales)\n",
    "print(\"Min Expenses:\", min_expenses)\n",
    "\n",
    "# Average values\n",
    "avg_sales = sales_and_expenses['Sales'].mean()\n",
    "avg_expenses = sales_and_expenses['Expenses'].mean()\n",
    "print(\"\\nAverage Sales:\", avg_sales)\n",
    "print(\"Average Expenses:\", avg_expenses)\n"
   ]
  },
  {
   "cell_type": "code",
   "execution_count": 3,
   "id": "31af487a",
   "metadata": {},
   "outputs": [
    {
     "name": "stdout",
     "output_type": "stream",
     "text": [
      "\n",
      "Maximum expense per category:\n",
      "Category\n",
      "Rent             1500\n",
      "Utilities         250\n",
      "Groceries         350\n",
      "Entertainment     180\n",
      "dtype: int64\n",
      "\n",
      "Minimum expense per category:\n",
      "Category\n",
      "Rent             1200\n",
      "Utilities         200\n",
      "Groceries         300\n",
      "Entertainment     150\n",
      "dtype: int64\n",
      "\n",
      "Average expense per category:\n",
      "Category\n",
      "Rent             1350.0\n",
      "Utilities         227.5\n",
      "Groceries         325.0\n",
      "Entertainment     165.0\n",
      "dtype: float64\n"
     ]
    }
   ],
   "source": [
    "# Create DataFrame for expenses\n",
    "data = {\n",
    "    'Category': ['Rent', 'Utilities', 'Groceries', 'Entertainment'],\n",
    "    'January': [1200, 200, 300, 150],\n",
    "    'February': [1300, 220, 320, 160],\n",
    "    'March': [1400, 240, 330, 170],\n",
    "    'April': [1500, 250, 350, 180]\n",
    "}\n",
    "expenses = pd.DataFrame(data)\n",
    "\n",
    "# Set 'Category' as index\n",
    "expenses = expenses.set_index('Category')\n",
    "\n",
    "# Maximum expense per category\n",
    "print(\"\\nMaximum expense per category:\")\n",
    "print(expenses.max(axis=1))\n",
    "\n",
    "# Minimum expense per category\n",
    "print(\"\\nMinimum expense per category:\")\n",
    "print(expenses.min(axis=1))\n",
    "\n",
    "# Average expense per category\n",
    "print(\"\\nAverage expense per category:\")\n",
    "print(expenses.mean(axis=1))\n"
   ]
  },
  {
   "cell_type": "code",
   "execution_count": null,
   "id": "28cef745",
   "metadata": {},
   "outputs": [],
   "source": []
  }
 ],
 "metadata": {
  "kernelspec": {
   "display_name": "Python 3",
   "language": "python",
   "name": "python3"
  },
  "language_info": {
   "codemirror_mode": {
    "name": "ipython",
    "version": 3
   },
   "file_extension": ".py",
   "mimetype": "text/x-python",
   "name": "python",
   "nbconvert_exporter": "python",
   "pygments_lexer": "ipython3",
   "version": "3.12.9"
  }
 },
 "nbformat": 4,
 "nbformat_minor": 5
}
